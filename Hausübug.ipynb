{
 "cells": [
  {
   "cell_type": "code",
   "execution_count": 3,
   "metadata": {
    "collapsed": true
   },
   "outputs": [],
   "source": [
    "import pandas as pd"
   ]
  },
  {
   "cell_type": "code",
   "execution_count": 4,
   "outputs": [
    {
     "data": {
      "text/plain": "        day       date       time operator branch     driver  temperature  \\\n0  Thursday  01-May-14  35.128367    Laura   East      Bruno    68.287716   \n1  Thursday  01-May-14  25.203074  Melissa   East  Salvatore    70.997791   \n2  Thursday  01-May-14  45.643404  Melissa   West  Salvatore    53.394145   \n3  Thursday  01-May-14  29.374298  Melissa   East  Salvatore    70.306596   \n4  Thursday  01-May-14  29.994610  Melissa   West  Salvatore    71.501688   \n\n   bill  pizzas  free_wine  got_wine  discount_customer  \n0  58.4       4          0         0                  1  \n1  26.4       2          0         0                  0  \n2  58.1       3          1         0                  0  \n3  35.2       3          0         0                  0  \n4  38.4       2          0         0                  0  ",
      "text/html": "<div>\n<style scoped>\n    .dataframe tbody tr th:only-of-type {\n        vertical-align: middle;\n    }\n\n    .dataframe tbody tr th {\n        vertical-align: top;\n    }\n\n    .dataframe thead th {\n        text-align: right;\n    }\n</style>\n<table border=\"1\" class=\"dataframe\">\n  <thead>\n    <tr style=\"text-align: right;\">\n      <th></th>\n      <th>day</th>\n      <th>date</th>\n      <th>time</th>\n      <th>operator</th>\n      <th>branch</th>\n      <th>driver</th>\n      <th>temperature</th>\n      <th>bill</th>\n      <th>pizzas</th>\n      <th>free_wine</th>\n      <th>got_wine</th>\n      <th>discount_customer</th>\n    </tr>\n  </thead>\n  <tbody>\n    <tr>\n      <th>0</th>\n      <td>Thursday</td>\n      <td>01-May-14</td>\n      <td>35.128367</td>\n      <td>Laura</td>\n      <td>East</td>\n      <td>Bruno</td>\n      <td>68.287716</td>\n      <td>58.4</td>\n      <td>4</td>\n      <td>0</td>\n      <td>0</td>\n      <td>1</td>\n    </tr>\n    <tr>\n      <th>1</th>\n      <td>Thursday</td>\n      <td>01-May-14</td>\n      <td>25.203074</td>\n      <td>Melissa</td>\n      <td>East</td>\n      <td>Salvatore</td>\n      <td>70.997791</td>\n      <td>26.4</td>\n      <td>2</td>\n      <td>0</td>\n      <td>0</td>\n      <td>0</td>\n    </tr>\n    <tr>\n      <th>2</th>\n      <td>Thursday</td>\n      <td>01-May-14</td>\n      <td>45.643404</td>\n      <td>Melissa</td>\n      <td>West</td>\n      <td>Salvatore</td>\n      <td>53.394145</td>\n      <td>58.1</td>\n      <td>3</td>\n      <td>1</td>\n      <td>0</td>\n      <td>0</td>\n    </tr>\n    <tr>\n      <th>3</th>\n      <td>Thursday</td>\n      <td>01-May-14</td>\n      <td>29.374298</td>\n      <td>Melissa</td>\n      <td>East</td>\n      <td>Salvatore</td>\n      <td>70.306596</td>\n      <td>35.2</td>\n      <td>3</td>\n      <td>0</td>\n      <td>0</td>\n      <td>0</td>\n    </tr>\n    <tr>\n      <th>4</th>\n      <td>Thursday</td>\n      <td>01-May-14</td>\n      <td>29.994610</td>\n      <td>Melissa</td>\n      <td>West</td>\n      <td>Salvatore</td>\n      <td>71.501688</td>\n      <td>38.4</td>\n      <td>2</td>\n      <td>0</td>\n      <td>0</td>\n      <td>0</td>\n    </tr>\n  </tbody>\n</table>\n</div>"
     },
     "execution_count": 4,
     "metadata": {},
     "output_type": "execute_result"
    }
   ],
   "source": [
    "df = pd.read_csv('pizza_delivery.csv')\n",
    "\n",
    "df.head()"
   ],
   "metadata": {
    "collapsed": false
   }
  },
  {
   "cell_type": "markdown",
   "source": [
    "### 1. Erzeugen Sie eine Frequenztabelle bezuglich der Zustellungen per Filiale (relative und absolute Häufigkeiten)"
   ],
   "metadata": {
    "collapsed": false
   }
  },
  {
   "cell_type": "code",
   "execution_count": 5,
   "outputs": [],
   "source": [
    "df_frequencies = pd.DataFrame()\n",
    "\n",
    "df_frequencies['absolute_branch'] = df.branch.value_counts()\n",
    "\n",
    "df_frequencies['relative_branch'] = df.branch.value_counts(normalize=True)"
   ],
   "metadata": {
    "collapsed": false
   }
  },
  {
   "cell_type": "code",
   "execution_count": 6,
   "outputs": [
    {
     "data": {
      "text/plain": "        absolute_branch  relative_branch\nWest                435         0.343602\nCentre              421         0.332543\nEast                410         0.323855",
      "text/html": "<div>\n<style scoped>\n    .dataframe tbody tr th:only-of-type {\n        vertical-align: middle;\n    }\n\n    .dataframe tbody tr th {\n        vertical-align: top;\n    }\n\n    .dataframe thead th {\n        text-align: right;\n    }\n</style>\n<table border=\"1\" class=\"dataframe\">\n  <thead>\n    <tr style=\"text-align: right;\">\n      <th></th>\n      <th>absolute_branch</th>\n      <th>relative_branch</th>\n    </tr>\n  </thead>\n  <tbody>\n    <tr>\n      <th>West</th>\n      <td>435</td>\n      <td>0.343602</td>\n    </tr>\n    <tr>\n      <th>Centre</th>\n      <td>421</td>\n      <td>0.332543</td>\n    </tr>\n    <tr>\n      <th>East</th>\n      <td>410</td>\n      <td>0.323855</td>\n    </tr>\n  </tbody>\n</table>\n</div>"
     },
     "execution_count": 6,
     "metadata": {},
     "output_type": "execute_result"
    }
   ],
   "source": [
    "df_frequencies"
   ],
   "metadata": {
    "collapsed": false
   }
  },
  {
   "cell_type": "markdown",
   "source": [
    "### Stellen Sie die Häufigkeiten bzgl. der Filialen aus (1) als Balkendiagramm dar."
   ],
   "metadata": {
    "collapsed": false
   }
  },
  {
   "cell_type": "code",
   "execution_count": 8,
   "outputs": [
    {
     "data": {
      "text/plain": "<Figure size 432x288 with 1 Axes>",
      "image/png": "[encoded data removed]"
     },
     "metadata": {
      "needs_background": "light"
     },
     "output_type": "display_data"
    }
   ],
   "source": [
    "ax = df_frequencies.plot.bar( y='absolute_branch', rot=0)"
   ],
   "metadata": {
    "collapsed": false
   }
  },
  {
   "cell_type": "code",
   "execution_count": 9,
   "outputs": [
    {
     "data": {
      "text/plain": "<Figure size 432x288 with 1 Axes>",
      "image/png": "[encoded data removed]"
     },
     "metadata": {
      "needs_background": "light"
     },
     "output_type": "display_data"
    }
   ],
   "source": [
    "ax = df_frequencies.plot.bar( y='relative_branch', rot=0)"
   ],
   "metadata": {
    "collapsed": false
   }
  },
  {
   "cell_type": "code",
   "execution_count": 10,
   "outputs": [
    {
     "data": {
      "text/plain": "<Figure size 432x288 with 1 Axes>",
      "image/png": "[encoded data removed]"
     },
     "metadata": {
      "needs_background": "light"
     },
     "output_type": "display_data"
    }
   ],
   "source": [
    "ax = df_frequencies.plot.bar()"
   ],
   "metadata": {
    "collapsed": false
   }
  },
  {
   "cell_type": "markdown",
   "source": [
    " ### Erzeugen Sie ein Histogramm bzgl. der Zustellzeiten"
   ],
   "metadata": {
    "collapsed": false
   }
  },
  {
   "cell_type": "code",
   "execution_count": 11,
   "outputs": [
    {
     "data": {
      "text/plain": "<AxesSubplot:>"
     },
     "execution_count": 11,
     "metadata": {},
     "output_type": "execute_result"
    },
    {
     "data": {
      "text/plain": "<Figure size 432x288 with 1 Axes>",
      "image/png": "[encoded data removed]"
     },
     "metadata": {
      "needs_background": "light"
     },
     "output_type": "display_data"
    }
   ],
   "source": [
    "df.time.hist()"
   ],
   "metadata": {
    "collapsed": false
   }
  },
  {
   "cell_type": "markdown",
   "source": [
    "### Berechnen Sie den Mittelwert, den Median, Minimum und Maximum,erstes und drittes Quartil fur alle quantitativen Variablen."
   ],
   "metadata": {
    "collapsed": false
   }
  },
  {
   "cell_type": "code",
   "execution_count": 12,
   "outputs": [
    {
     "data": {
      "text/plain": "        day       date       time operator branch     driver  temperature  \\\n0  Thursday  01-May-14  35.128367    Laura   East      Bruno    68.287716   \n1  Thursday  01-May-14  25.203074  Melissa   East  Salvatore    70.997791   \n2  Thursday  01-May-14  45.643404  Melissa   West  Salvatore    53.394145   \n3  Thursday  01-May-14  29.374298  Melissa   East  Salvatore    70.306596   \n4  Thursday  01-May-14  29.994610  Melissa   West  Salvatore    71.501688   \n\n   bill  pizzas  free_wine  got_wine  discount_customer  \n0  58.4       4          0         0                  1  \n1  26.4       2          0         0                  0  \n2  58.1       3          1         0                  0  \n3  35.2       3          0         0                  0  \n4  38.4       2          0         0                  0  ",
      "text/html": "<div>\n<style scoped>\n    .dataframe tbody tr th:only-of-type {\n        vertical-align: middle;\n    }\n\n    .dataframe tbody tr th {\n        vertical-align: top;\n    }\n\n    .dataframe thead th {\n        text-align: right;\n    }\n</style>\n<table border=\"1\" class=\"dataframe\">\n  <thead>\n    <tr style=\"text-align: right;\">\n      <th></th>\n      <th>day</th>\n      <th>date</th>\n      <th>time</th>\n      <th>operator</th>\n      <th>branch</th>\n      <th>driver</th>\n      <th>temperature</th>\n      <th>bill</th>\n      <th>pizzas</th>\n      <th>free_wine</th>\n      <th>got_wine</th>\n      <th>discount_customer</th>\n    </tr>\n  </thead>\n  <tbody>\n    <tr>\n      <th>0</th>\n      <td>Thursday</td>\n      <td>01-May-14</td>\n      <td>35.128367</td>\n      <td>Laura</td>\n      <td>East</td>\n      <td>Bruno</td>\n      <td>68.287716</td>\n      <td>58.4</td>\n      <td>4</td>\n      <td>0</td>\n      <td>0</td>\n      <td>1</td>\n    </tr>\n    <tr>\n      <th>1</th>\n      <td>Thursday</td>\n      <td>01-May-14</td>\n      <td>25.203074</td>\n      <td>Melissa</td>\n      <td>East</td>\n      <td>Salvatore</td>\n      <td>70.997791</td>\n      <td>26.4</td>\n      <td>2</td>\n      <td>0</td>\n      <td>0</td>\n      <td>0</td>\n    </tr>\n    <tr>\n      <th>2</th>\n      <td>Thursday</td>\n      <td>01-May-14</td>\n      <td>45.643404</td>\n      <td>Melissa</td>\n      <td>West</td>\n      <td>Salvatore</td>\n      <td>53.394145</td>\n      <td>58.1</td>\n      <td>3</td>\n      <td>1</td>\n      <td>0</td>\n      <td>0</td>\n    </tr>\n    <tr>\n      <th>3</th>\n      <td>Thursday</td>\n      <td>01-May-14</td>\n      <td>29.374298</td>\n      <td>Melissa</td>\n      <td>East</td>\n      <td>Salvatore</td>\n      <td>70.306596</td>\n      <td>35.2</td>\n      <td>3</td>\n      <td>0</td>\n      <td>0</td>\n      <td>0</td>\n    </tr>\n    <tr>\n      <th>4</th>\n      <td>Thursday</td>\n      <td>01-May-14</td>\n      <td>29.994610</td>\n      <td>Melissa</td>\n      <td>West</td>\n      <td>Salvatore</td>\n      <td>71.501688</td>\n      <td>38.4</td>\n      <td>2</td>\n      <td>0</td>\n      <td>0</td>\n      <td>0</td>\n    </tr>\n  </tbody>\n</table>\n</div>"
     },
     "execution_count": 12,
     "metadata": {},
     "output_type": "execute_result"
    }
   ],
   "source": [
    "df.head()"
   ],
   "metadata": {
    "collapsed": false
   }
  },
  {
   "cell_type": "code",
   "execution_count": 14,
   "outputs": [
    {
     "data": {
      "text/plain": "              time  temperature         bill       pizzas\ncount  1266.000000  1266.000000  1266.000000  1266.000000\nmean     34.229551    62.863950    42.755924     3.013428\nstd       6.461478     6.905708    11.222918     1.467102\nmin      12.266028    41.758718     9.100000     1.000000\n25%      30.061151    58.242364    35.500000     2.000000\n50%      34.381964    62.926657    42.900000     3.000000\n75%      38.577021    67.228628    50.500000     4.000000\nmax      53.096264    87.582422    75.000000    11.000000",
      "text/html": "<div>\n<style scoped>\n    .dataframe tbody tr th:only-of-type {\n        vertical-align: middle;\n    }\n\n    .dataframe tbody tr th {\n        vertical-align: top;\n    }\n\n    .dataframe thead th {\n        text-align: right;\n    }\n</style>\n<table border=\"1\" class=\"dataframe\">\n  <thead>\n    <tr style=\"text-align: right;\">\n      <th></th>\n      <th>time</th>\n      <th>temperature</th>\n      <th>bill</th>\n      <th>pizzas</th>\n    </tr>\n  </thead>\n  <tbody>\n    <tr>\n      <th>count</th>\n      <td>1266.000000</td>\n      <td>1266.000000</td>\n      <td>1266.000000</td>\n      <td>1266.000000</td>\n    </tr>\n    <tr>\n      <th>mean</th>\n      <td>34.229551</td>\n      <td>62.863950</td>\n      <td>42.755924</td>\n      <td>3.013428</td>\n    </tr>\n    <tr>\n      <th>std</th>\n      <td>6.461478</td>\n      <td>6.905708</td>\n      <td>11.222918</td>\n      <td>1.467102</td>\n    </tr>\n    <tr>\n      <th>min</th>\n      <td>12.266028</td>\n      <td>41.758718</td>\n      <td>9.100000</td>\n      <td>1.000000</td>\n    </tr>\n    <tr>\n      <th>25%</th>\n      <td>30.061151</td>\n      <td>58.242364</td>\n      <td>35.500000</td>\n      <td>2.000000</td>\n    </tr>\n    <tr>\n      <th>50%</th>\n      <td>34.381964</td>\n      <td>62.926657</td>\n      <td>42.900000</td>\n      <td>3.000000</td>\n    </tr>\n    <tr>\n      <th>75%</th>\n      <td>38.577021</td>\n      <td>67.228628</td>\n      <td>50.500000</td>\n      <td>4.000000</td>\n    </tr>\n    <tr>\n      <th>max</th>\n      <td>53.096264</td>\n      <td>87.582422</td>\n      <td>75.000000</td>\n      <td>11.000000</td>\n    </tr>\n  </tbody>\n</table>\n</div>"
     },
     "execution_count": 14,
     "metadata": {},
     "output_type": "execute_result"
    }
   ],
   "source": [
    "df[['time', 'temperature', 'bill','pizzas']].describe()"
   ],
   "metadata": {
    "collapsed": false
   }
  },
  {
   "cell_type": "code",
   "execution_count": 15,
   "outputs": [
    {
     "data": {
      "text/plain": "time           34.381964\ntemperature    62.926657\nbill           42.900000\npizzas          3.000000\ndtype: float64"
     },
     "execution_count": 15,
     "metadata": {},
     "output_type": "execute_result"
    }
   ],
   "source": [
    "df[['time', 'temperature', 'bill','pizzas']].median()"
   ],
   "metadata": {
    "collapsed": false
   }
  },
  {
   "cell_type": "markdown",
   "source": [
    "### Das Ziel des Managers ist die Pizza in weniger als 30min und mit einer Temperatur von uber 65 ◦C zuzustellen. Verwenden Sie den tTest um zu uberprüfen, ob diese Ziele im Durchschnitt erreicht wurden. Überlegen Sie welche Art von ¨ t−Test hier jeweils angewendet werden muss."
   ],
   "metadata": {
    "collapsed": false
   }
  },
  {
   "cell_type": "code",
   "execution_count": 6,
   "outputs": [],
   "source": [
    "import scipy.stats as stats"
   ],
   "metadata": {
    "collapsed": false
   }
  },
  {
   "cell_type": "code",
   "execution_count": 7,
   "outputs": [
    {
     "name": "stdout",
     "output_type": "stream",
     "text": [
      "23.290525733651325 3.885160858724638e-100\n"
     ]
    }
   ],
   "source": [
    "t_statistic, p_value = stats.ttest_1samp(a=df.time, popmean=30)\n",
    "print(t_statistic , p_value)"
   ],
   "metadata": {
    "collapsed": false
   }
  },
  {
   "cell_type": "code",
   "execution_count": 8,
   "outputs": [
    {
     "name": "stdout",
     "output_type": "stream",
     "text": [
      "-11.005762229579862 5.734107019184443e-27\n"
     ]
    }
   ],
   "source": [
    "t_statistic, p_value = stats.ttest_1samp(a=df.temperature, popmean=65)\n",
    "print(t_statistic , p_value)"
   ],
   "metadata": {
    "collapsed": false
   }
  },
  {
   "cell_type": "markdown",
   "source": [
    "p-value ist kleiner als 0,05 daraus folgt Null Hypothese wird verworfen. "
   ],
   "metadata": {
    "collapsed": false
   }
  }
 ],
 "metadata": {
  "kernelspec": {
   "display_name": "Python 3",
   "language": "python",
   "name": "python3"
  },
  "language_info": {
   "codemirror_mode": {
    "name": "ipython",
    "version": 2
   },
   "file_extension": ".py",
   "mimetype": "text/x-python",
   "name": "python",
   "nbconvert_exporter": "python",
   "pygments_lexer": "ipython2",
   "version": "2.7.6"
  }
 },
 "nbformat": 4,
 "nbformat_minor": 0
}
